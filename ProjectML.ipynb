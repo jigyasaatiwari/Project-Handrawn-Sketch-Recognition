{
  "nbformat": 4,
  "nbformat_minor": 0,
  "metadata": {
    "colab": {
      "provenance": [],
      "mount_file_id": "1LD0EeJ529pWU9t2QSaUXgsk5HOz5cDX2",
      "authorship_tag": "ABX9TyOTQdTqn2egFTCD9BHCCJln"
    },
    "kernelspec": {
      "name": "python3",
      "display_name": "Python 3"
    },
    "language_info": {
      "name": "python"
    }
  },
  "cells": [
    {
      "cell_type": "code",
      "source": [
        "!pip install gdown"
      ],
      "metadata": {
        "colab": {
          "base_uri": "https://localhost:8080/"
        },
        "id": "yDC_FjmoOyoq",
        "outputId": "87589491-4044-4ddc-e1c9-2972aeeae577"
      },
      "execution_count": 1,
      "outputs": [
        {
          "output_type": "stream",
          "name": "stdout",
          "text": [
            "Requirement already satisfied: gdown in /usr/local/lib/python3.11/dist-packages (5.2.0)\n",
            "Requirement already satisfied: beautifulsoup4 in /usr/local/lib/python3.11/dist-packages (from gdown) (4.13.3)\n",
            "Requirement already satisfied: filelock in /usr/local/lib/python3.11/dist-packages (from gdown) (3.18.0)\n",
            "Requirement already satisfied: requests[socks] in /usr/local/lib/python3.11/dist-packages (from gdown) (2.32.3)\n",
            "Requirement already satisfied: tqdm in /usr/local/lib/python3.11/dist-packages (from gdown) (4.67.1)\n",
            "Requirement already satisfied: soupsieve>1.2 in /usr/local/lib/python3.11/dist-packages (from beautifulsoup4->gdown) (2.6)\n",
            "Requirement already satisfied: typing-extensions>=4.0.0 in /usr/local/lib/python3.11/dist-packages (from beautifulsoup4->gdown) (4.12.2)\n",
            "Requirement already satisfied: charset-normalizer<4,>=2 in /usr/local/lib/python3.11/dist-packages (from requests[socks]->gdown) (3.4.1)\n",
            "Requirement already satisfied: idna<4,>=2.5 in /usr/local/lib/python3.11/dist-packages (from requests[socks]->gdown) (3.10)\n",
            "Requirement already satisfied: urllib3<3,>=1.21.1 in /usr/local/lib/python3.11/dist-packages (from requests[socks]->gdown) (2.3.0)\n",
            "Requirement already satisfied: certifi>=2017.4.17 in /usr/local/lib/python3.11/dist-packages (from requests[socks]->gdown) (2025.1.31)\n",
            "Requirement already satisfied: PySocks!=1.5.7,>=1.5.6 in /usr/local/lib/python3.11/dist-packages (from requests[socks]->gdown) (1.7.1)\n"
          ]
        }
      ]
    },
    {
      "cell_type": "code",
      "source": [
        "import gdown\n",
        "import zipfile\n",
        "\n",
        "# File ID and URL\n",
        "file_id = \"1Kf6dCn1u5Qu9ijt0yltd9tzXI7Dd06W0\"\n",
        "url = \"https://drive.google.com/file/d/1f5pAbU5OdnxMPZxIebUFvJeroOXxbWEZ/view?usp=drive_link\"\n",
        "output = \"sketches_png.zip\"\n",
        "\n",
        "# Download zip file\n",
        "gdown.download(url, output, fuzzy=True)\n",
        "\n",
        "# Extract zip into 'outlier_DATA' folder\n",
        "with zipfile.ZipFile(output, \"r\") as zip_ref:\n",
        "    zip_ref.extractall(\"sketches\")\n",
        "\n",
        "\n"
      ],
      "metadata": {
        "colab": {
          "base_uri": "https://localhost:8080/"
        },
        "id": "fgKu1jacVk3v",
        "outputId": "5c09b59a-bbbb-4389-bbcc-23a1c50601d0"
      },
      "execution_count": 2,
      "outputs": [
        {
          "output_type": "stream",
          "name": "stderr",
          "text": [
            "Downloading...\n",
            "From (original): https://drive.google.com/uc?id=1f5pAbU5OdnxMPZxIebUFvJeroOXxbWEZ\n",
            "From (redirected): https://drive.google.com/uc?id=1f5pAbU5OdnxMPZxIebUFvJeroOXxbWEZ&confirm=t&uuid=030448bd-9703-4030-90c4-d3e54ea68b6b\n",
            "To: /content/sketches_png.zip\n",
            "100%|██████████| 550M/550M [00:10<00:00, 53.2MB/s]\n"
          ]
        }
      ]
    },
    {
      "cell_type": "code",
      "source": [
        "import os\n",
        "import cv2\n",
        "import numpy as np\n",
        "from sklearn.model_selection import train_test_split\n",
        "\n",
        "# Define root directory\n",
        "root_dir = \"sketches/png\"  # Root folder containing class-wise subfolders\n",
        "output_size = (128, 128)  # Resize dimensions\n",
        "\n",
        "# Initialize dataset and labels\n",
        "X = []\n",
        "y = []\n",
        "class_labels = {}\n",
        "\n",
        "# Iterate through each class folder\n",
        "for label_idx, class_name in enumerate(os.listdir(root_dir)):\n",
        "    class_path = os.path.join(root_dir, class_name)\n",
        "\n",
        "    if not os.path.isdir(class_path):  # Skip non-directory files\n",
        "        continue\n",
        "\n",
        "    class_labels[label_idx] = class_name  # Store label index mapping\n",
        "\n",
        "    for img_file in os.listdir(class_path):\n",
        "        if img_file.endswith(\".png\"):  # Only process PNG images\n",
        "            img_path = os.path.join(class_path, img_file)\n",
        "\n",
        "            # Read image in grayscale\n",
        "            img = cv2.imread(img_path, cv2.IMREAD_GRAYSCALE)\n",
        "\n",
        "            # Resize to 128x128\n",
        "            img_resized = cv2.resize(img, output_size)\n",
        "\n",
        "            # Normalize pixel values (0 to 1)\n",
        "            img_normalized = img_resized / 255.0\n",
        "\n",
        "            X.append(img_normalized)\n",
        "            y.append(label_idx)  # Assign label\n",
        "\n",
        "# Convert lists to NumPy arrays\n",
        "X = np.array(X)\n",
        "y = np.array(y)\n",
        "\n",
        "# Split into training (80%) and testing (20%)\n",
        "X_train, X_test, y_train, y_test = train_test_split(X, y, test_size=0.2, random_state=42)\n",
        "\n",
        "print(f\"Dataset prepared: {X_train.shape[0]} training images, {X_test.shape[0]} testing images.\")\n",
        "print(f\"Class labels mapping: {class_labels}\")\n"
      ],
      "metadata": {
        "colab": {
          "base_uri": "https://localhost:8080/"
        },
        "id": "R5_5UUXvcLwO",
        "outputId": "05cf643b-e3f0-48bf-cac4-b738b1acee42"
      },
      "execution_count": 3,
      "outputs": [
        {
          "output_type": "stream",
          "name": "stdout",
          "text": [
            "Dataset prepared: 16000 training images, 4000 testing images.\n",
            "Class labels mapping: {0: 'radio', 1: 'pretzel', 2: 'wheelbarrow', 3: 'mailbox', 4: 'purse', 5: 'tooth', 6: 'ipod', 7: 'toilet', 8: 'satellite dish', 9: 'parrot', 10: 'sheep', 11: 'frog', 12: 'stapler', 13: 'shovel', 14: 'space shuttle', 15: 'floor lamp', 16: 'hammer', 17: 'beer-mug', 18: 'angel', 19: 'backpack', 20: 'bush', 21: 'truck', 22: 'motorbike', 23: 'butterfly', 24: 'rainbow', 25: 'basket', 26: 'arm', 27: 'tomato', 28: 'vase', 29: 'tree', 30: 'dog', 31: 'door', 32: 'cigarette', 33: 'bench', 34: 'flashlight', 35: 'squirrel', 36: 'trousers', 37: 'hat', 38: 'giraffe', 39: 'head', 40: 'train', 41: 'wrist-watch', 42: 'donut', 43: 'head-phones', 44: 'potted plant', 45: 'fork', 46: 'elephant', 47: 'spider', 48: 'bottle opener', 49: 'candle', 50: 'ant', 51: 'binoculars', 52: 'dolphin', 53: 'hot air balloon', 54: 'bed', 55: 'sword', 56: 'windmill', 57: 'helmet', 58: 'pipe (for smoking)', 59: 'violin', 60: 'rifle', 61: 'sponge bob', 62: 'computer-mouse', 63: 'owl', 64: 'spoon', 65: 'bicycle', 66: 'snail', 67: 'ashtray', 68: 'rooster', 69: 'teacup', 70: 'monkey', 71: 'eye', 72: 'swan', 73: 'shark', 74: 'calculator', 75: 'fan', 76: 'ship', 77: 'computer monitor', 78: 'fish', 79: 'mushroom', 80: 'bee', 81: 'axe', 82: 'airplane', 83: 'hand', 84: 'crane (machine)', 85: 'hedgehog', 86: 'toothbrush', 87: 'nose', 88: 'diamond', 89: 'feather', 91: 'microscope', 92: 'wineglass', 93: 'moon', 94: 'santa claus', 95: 'revolver', 96: 'key', 97: 'camel', 98: 'apple', 99: 'cloud', 100: 'syringe', 101: 'pear', 102: 'guitar', 103: 'harp', 104: 'pumpkin', 105: 'castle', 106: 'mouse (animal)', 107: 't-shirt', 108: 'face', 109: 'baseball bat', 110: 'carrot', 111: 'seagull', 112: 'bread', 113: 'bulldozer', 114: 'bookshelf', 115: 'human-skeleton', 116: 'foot', 117: 'cell phone', 118: 'couch', 119: 'cabinet', 120: 'canoe', 121: 'strawberry', 122: 'ladder', 123: 'barn', 124: 'power outlet', 125: 'tent', 126: 'tire', 127: 'book', 128: 'mermaid', 129: 'boomerang', 130: 'streetlight', 131: 'zebra', 132: 'table', 133: 'snowman', 134: 'crocodile', 135: 'keyboard', 136: 'ice-cream-cone', 137: 'flying saucer', 138: 'laptop', 139: 'camera', 140: 'pig', 141: 'present', 142: 'cake', 143: 'hamburger', 144: 'suv', 145: 'banana', 146: 'tv', 147: 'wheel', 148: 'sun', 149: 'chair', 150: 'lighter', 151: 'hourglass', 152: 'speed-boat', 153: 'teapot', 154: 'duck', 155: 'walkie talkie', 156: 'parachute', 157: 'pen', 158: 'flying bird', 159: 'telephone', 160: 'trumpet', 161: 'lobster', 162: 'grapes', 163: 'traffic light', 164: 'blimp', 165: 'door handle', 166: 'knife', 167: 'standing bird', 168: 'eyeglasses', 169: 'umbrella', 170: 'megaphone', 171: 'sea turtle', 172: 'pizza', 173: 'mouth', 174: 'mosquito', 175: 'grenade', 176: 'trombone', 177: 'octopus', 178: 'snake', 179: 'alarm clock', 180: 'mug', 181: 'submarine', 182: 'tennis-racket', 183: 'bridge', 184: 'church', 185: 'leaf', 186: 'lion', 187: 'wine-bottle', 188: 'saxophone', 189: 'cactus', 190: 'skyscraper', 191: 'chandelier', 192: 'brain', 193: 'shoe', 194: 'snowboard', 195: 'car (sedan)', 196: 'cannon', 197: 'tractor', 198: 'scorpion', 199: 'frying-pan', 200: 'pineapple', 201: 'skull', 202: 'teddy-bear', 203: 'person walking', 204: 'piano', 205: 'comb', 206: 'flower with stem', 207: 'paper clip', 208: 'bowl', 209: 'bell', 210: 'tablelamp', 211: 'rabbit', 212: 'rollerblades', 213: 'socks', 214: 'loudspeaker', 215: 'scissors', 216: 'cup', 217: 'pickup truck', 218: 'cow', 219: 'parking meter', 220: 'suitcase', 221: 'helicopter', 222: 'kangaroo', 223: 'panda', 224: 'screwdriver', 225: 'bus', 226: 'envelope', 227: 'lightbulb', 228: 'skateboard', 229: 'pigeon', 230: 'crown', 231: 'palm tree', 232: 'microphone', 233: 'bathtub', 234: 'horse', 235: 'satellite', 236: 'race car', 237: 'ear', 238: 'van', 239: 'dragon', 240: 'hot-dog', 241: 'penguin', 242: 'crab', 243: 'fire hydrant', 244: 'sailboat', 245: 'house', 246: 'armchair', 247: 'person sitting', 248: 'bear (animal)', 249: 'tiger', 250: 'cat'}\n"
          ]
        }
      ]
    },
    {
      "cell_type": "code",
      "source": [
        "import cv2\n",
        "import numpy as np\n",
        "\n",
        "def enhance_contrast(image):\n",
        "    \"\"\"Apply Histogram Equalization to enhance contrast.\"\"\"\n",
        "    return cv2.equalizeHist((image * 255).astype(np.uint8))  # Convert back to 8-bit\n",
        "\n",
        "# Apply contrast enhancement to training and testing images\n",
        "contrast_X_train = np.array([enhance_contrast(img) for img in X_train])\n",
        "contrast_X_test = np.array([enhance_contrast(img) for img in X_test])\n",
        "\n",
        "# Normalize again\n",
        "contrast_X_train = contrast_X_train / 255.0\n",
        "contrast_X_test = contrast_X_test / 255.0\n"
      ],
      "metadata": {
        "id": "cUewBc9zmfRC"
      },
      "execution_count": 6,
      "outputs": []
    },
    {
      "cell_type": "code",
      "source": [
        "def denoise_image(image):\n",
        "    \"\"\"Apply Median Blur to remove noise while preserving edges.\"\"\"\n",
        "    return cv2.medianBlur((image * 255).astype(np.uint8), 3)  # Convert back to 8-bit before blurring\n",
        "\n",
        "# Apply denoising to training and testing images\n",
        "denoised_X_train = np.array([denoise_image(img) for img in contrast_X_train])\n",
        "denoised_X_test = np.array([denoise_image(img) for img in contrast_X_test])\n",
        "\n",
        "# Normalize again\n",
        "denoised_X_train = denoised_X_train / 255.0\n",
        "denoised_X_test = denoised_X_test / 255.0\n",
        "\n"
      ],
      "metadata": {
        "id": "PiYiZ0wPmfuY"
      },
      "execution_count": 7,
      "outputs": []
    }
  ]
}